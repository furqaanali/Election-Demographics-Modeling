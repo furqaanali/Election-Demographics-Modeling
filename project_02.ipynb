{
 "cells": [
  {
   "cell_type": "code",
   "execution_count": 63,
   "metadata": {},
   "outputs": [],
   "source": [
    "# Load libraries\n",
    "import pandas as pd\n",
    "import matplotlib.pyplot as plt \n",
    "import seaborn as sns\n",
    "import numpy\n",
    "\n",
    "from sklearn.model_selection import train_test_split\n",
    "from sklearn.preprocessing import StandardScaler\n",
    "from sklearn import linear_model\n",
    "\n",
    "from sklearn.tree import DecisionTreeClassifier\n",
    "from sklearn.neighbors import KNeighborsClassifier\n",
    "from sklearn.svm import SVC\n",
    "from sklearn import metrics\n",
    "\n",
    "import plotly.figure_factory as ff"
   ]
  },
  {
   "cell_type": "code",
   "execution_count": 64,
   "metadata": {},
   "outputs": [],
   "source": [
    "# Load dataset\n",
    "merged_data = pd.read_csv('merged_train.csv')"
   ]
  },
  {
   "cell_type": "code",
   "execution_count": 65,
   "metadata": {
    "scrolled": true
   },
   "outputs": [
    {
     "data": {
      "text/html": [
       "<div>\n",
       "<style scoped>\n",
       "    .dataframe tbody tr th:only-of-type {\n",
       "        vertical-align: middle;\n",
       "    }\n",
       "\n",
       "    .dataframe tbody tr th {\n",
       "        vertical-align: top;\n",
       "    }\n",
       "\n",
       "    .dataframe thead th {\n",
       "        text-align: right;\n",
       "    }\n",
       "</style>\n",
       "<table border=\"1\" class=\"dataframe\">\n",
       "  <thead>\n",
       "    <tr style=\"text-align: right;\">\n",
       "      <th></th>\n",
       "      <th>State</th>\n",
       "      <th>County</th>\n",
       "      <th>FIPS</th>\n",
       "      <th>Total Population</th>\n",
       "      <th>Percent White, not Hispanic or Latino</th>\n",
       "      <th>Percent Black, not Hispanic or Latino</th>\n",
       "      <th>Percent Hispanic or Latino</th>\n",
       "      <th>Percent Foreign Born</th>\n",
       "      <th>Percent Female</th>\n",
       "      <th>Percent Age 29 and Under</th>\n",
       "      <th>Percent Age 65 and Older</th>\n",
       "      <th>Median Household Income</th>\n",
       "      <th>Percent Unemployed</th>\n",
       "      <th>Percent Less than High School Degree</th>\n",
       "      <th>Percent Less than Bachelor's Degree</th>\n",
       "      <th>Percent Rural</th>\n",
       "      <th>Democratic</th>\n",
       "      <th>Republican</th>\n",
       "      <th>Party</th>\n",
       "    </tr>\n",
       "  </thead>\n",
       "  <tbody>\n",
       "    <tr>\n",
       "      <th>0</th>\n",
       "      <td>AZ</td>\n",
       "      <td>apache</td>\n",
       "      <td>4001</td>\n",
       "      <td>72346</td>\n",
       "      <td>18.571863</td>\n",
       "      <td>0.486551</td>\n",
       "      <td>5.947806</td>\n",
       "      <td>1.719515</td>\n",
       "      <td>50.598513</td>\n",
       "      <td>45.854643</td>\n",
       "      <td>13.322091</td>\n",
       "      <td>32460</td>\n",
       "      <td>15.807433</td>\n",
       "      <td>21.758252</td>\n",
       "      <td>88.941063</td>\n",
       "      <td>74.061076</td>\n",
       "      <td>16298</td>\n",
       "      <td>7810</td>\n",
       "      <td>1</td>\n",
       "    </tr>\n",
       "    <tr>\n",
       "      <th>1</th>\n",
       "      <td>AZ</td>\n",
       "      <td>cochise</td>\n",
       "      <td>4003</td>\n",
       "      <td>128177</td>\n",
       "      <td>56.299492</td>\n",
       "      <td>3.714395</td>\n",
       "      <td>34.403208</td>\n",
       "      <td>11.458374</td>\n",
       "      <td>49.069646</td>\n",
       "      <td>37.902276</td>\n",
       "      <td>19.756275</td>\n",
       "      <td>45383</td>\n",
       "      <td>8.567108</td>\n",
       "      <td>13.409171</td>\n",
       "      <td>76.837055</td>\n",
       "      <td>36.301067</td>\n",
       "      <td>17383</td>\n",
       "      <td>26929</td>\n",
       "      <td>0</td>\n",
       "    </tr>\n",
       "    <tr>\n",
       "      <th>2</th>\n",
       "      <td>AZ</td>\n",
       "      <td>coconino</td>\n",
       "      <td>4005</td>\n",
       "      <td>138064</td>\n",
       "      <td>54.619597</td>\n",
       "      <td>1.342855</td>\n",
       "      <td>13.711033</td>\n",
       "      <td>4.825298</td>\n",
       "      <td>50.581614</td>\n",
       "      <td>48.946141</td>\n",
       "      <td>10.873943</td>\n",
       "      <td>51106</td>\n",
       "      <td>8.238305</td>\n",
       "      <td>11.085381</td>\n",
       "      <td>65.791439</td>\n",
       "      <td>31.466066</td>\n",
       "      <td>34240</td>\n",
       "      <td>19249</td>\n",
       "      <td>1</td>\n",
       "    </tr>\n",
       "    <tr>\n",
       "      <th>3</th>\n",
       "      <td>AZ</td>\n",
       "      <td>gila</td>\n",
       "      <td>4007</td>\n",
       "      <td>53179</td>\n",
       "      <td>63.222325</td>\n",
       "      <td>0.552850</td>\n",
       "      <td>18.548675</td>\n",
       "      <td>4.249798</td>\n",
       "      <td>50.296170</td>\n",
       "      <td>32.238290</td>\n",
       "      <td>26.397638</td>\n",
       "      <td>40593</td>\n",
       "      <td>12.129932</td>\n",
       "      <td>15.729958</td>\n",
       "      <td>82.262624</td>\n",
       "      <td>41.062000</td>\n",
       "      <td>7643</td>\n",
       "      <td>12180</td>\n",
       "      <td>0</td>\n",
       "    </tr>\n",
       "    <tr>\n",
       "      <th>4</th>\n",
       "      <td>AZ</td>\n",
       "      <td>graham</td>\n",
       "      <td>4009</td>\n",
       "      <td>37529</td>\n",
       "      <td>51.461536</td>\n",
       "      <td>1.811932</td>\n",
       "      <td>32.097844</td>\n",
       "      <td>4.385942</td>\n",
       "      <td>46.313518</td>\n",
       "      <td>46.393456</td>\n",
       "      <td>12.315809</td>\n",
       "      <td>47422</td>\n",
       "      <td>14.424104</td>\n",
       "      <td>14.580797</td>\n",
       "      <td>86.675944</td>\n",
       "      <td>46.437399</td>\n",
       "      <td>3368</td>\n",
       "      <td>6870</td>\n",
       "      <td>0</td>\n",
       "    </tr>\n",
       "  </tbody>\n",
       "</table>\n",
       "</div>"
      ],
      "text/plain": [
       "  State    County  FIPS  Total Population  \\\n",
       "0    AZ    apache  4001             72346   \n",
       "1    AZ   cochise  4003            128177   \n",
       "2    AZ  coconino  4005            138064   \n",
       "3    AZ      gila  4007             53179   \n",
       "4    AZ    graham  4009             37529   \n",
       "\n",
       "   Percent White, not Hispanic or Latino  \\\n",
       "0                              18.571863   \n",
       "1                              56.299492   \n",
       "2                              54.619597   \n",
       "3                              63.222325   \n",
       "4                              51.461536   \n",
       "\n",
       "   Percent Black, not Hispanic or Latino  Percent Hispanic or Latino  \\\n",
       "0                               0.486551                    5.947806   \n",
       "1                               3.714395                   34.403208   \n",
       "2                               1.342855                   13.711033   \n",
       "3                               0.552850                   18.548675   \n",
       "4                               1.811932                   32.097844   \n",
       "\n",
       "   Percent Foreign Born  Percent Female  Percent Age 29 and Under  \\\n",
       "0              1.719515       50.598513                 45.854643   \n",
       "1             11.458374       49.069646                 37.902276   \n",
       "2              4.825298       50.581614                 48.946141   \n",
       "3              4.249798       50.296170                 32.238290   \n",
       "4              4.385942       46.313518                 46.393456   \n",
       "\n",
       "   Percent Age 65 and Older  Median Household Income  Percent Unemployed  \\\n",
       "0                 13.322091                    32460           15.807433   \n",
       "1                 19.756275                    45383            8.567108   \n",
       "2                 10.873943                    51106            8.238305   \n",
       "3                 26.397638                    40593           12.129932   \n",
       "4                 12.315809                    47422           14.424104   \n",
       "\n",
       "   Percent Less than High School Degree  Percent Less than Bachelor's Degree  \\\n",
       "0                             21.758252                            88.941063   \n",
       "1                             13.409171                            76.837055   \n",
       "2                             11.085381                            65.791439   \n",
       "3                             15.729958                            82.262624   \n",
       "4                             14.580797                            86.675944   \n",
       "\n",
       "   Percent Rural  Democratic  Republican  Party  \n",
       "0      74.061076       16298        7810      1  \n",
       "1      36.301067       17383       26929      0  \n",
       "2      31.466066       34240       19249      1  \n",
       "3      41.062000        7643       12180      0  \n",
       "4      46.437399        3368        6870      0  "
      ]
     },
     "execution_count": 65,
     "metadata": {},
     "output_type": "execute_result"
    }
   ],
   "source": [
    "# Visualize dataset\n",
    "merged_data.head()"
   ]
  },
  {
   "cell_type": "code",
   "execution_count": null,
   "metadata": {},
   "outputs": [],
   "source": []
  },
  {
   "cell_type": "code",
   "execution_count": 66,
   "metadata": {},
   "outputs": [],
   "source": [
    "# Task 1"
   ]
  },
  {
   "cell_type": "code",
   "execution_count": 67,
   "metadata": {},
   "outputs": [],
   "source": [
    "# Partition dataset into training and validationg sets using 80-20 split\n",
    "x_train, x_val, y_train, y_val = train_test_split(merged_data.drop(['State', 'County', 'FIPS', 'Democratic', 'Republican', 'Party'], axis=1), merged_data[['Democratic', 'Republican', 'Party']], test_size=0.2, random_state=0)"
   ]
  },
  {
   "cell_type": "code",
   "execution_count": 68,
   "metadata": {},
   "outputs": [
    {
     "name": "stdout",
     "output_type": "stream",
     "text": [
      "(956, 13)\n",
      "(956, 3)\n",
      "(239, 13)\n",
      "(239, 3)\n"
     ]
    }
   ],
   "source": [
    "print(x_train.shape)\n",
    "print(y_train.shape)\n",
    "print(x_val.shape)\n",
    "print(y_val.shape)"
   ]
  },
  {
   "cell_type": "code",
   "execution_count": 69,
   "metadata": {},
   "outputs": [
    {
     "data": {
      "text/html": [
       "<div>\n",
       "<style scoped>\n",
       "    .dataframe tbody tr th:only-of-type {\n",
       "        vertical-align: middle;\n",
       "    }\n",
       "\n",
       "    .dataframe tbody tr th {\n",
       "        vertical-align: top;\n",
       "    }\n",
       "\n",
       "    .dataframe thead th {\n",
       "        text-align: right;\n",
       "    }\n",
       "</style>\n",
       "<table border=\"1\" class=\"dataframe\">\n",
       "  <thead>\n",
       "    <tr style=\"text-align: right;\">\n",
       "      <th></th>\n",
       "      <th>Total Population</th>\n",
       "      <th>Percent White, not Hispanic or Latino</th>\n",
       "      <th>Percent Black, not Hispanic or Latino</th>\n",
       "      <th>Percent Hispanic or Latino</th>\n",
       "      <th>Percent Foreign Born</th>\n",
       "      <th>Percent Female</th>\n",
       "      <th>Percent Age 29 and Under</th>\n",
       "      <th>Percent Age 65 and Older</th>\n",
       "      <th>Median Household Income</th>\n",
       "      <th>Percent Unemployed</th>\n",
       "      <th>Percent Less than High School Degree</th>\n",
       "      <th>Percent Less than Bachelor's Degree</th>\n",
       "      <th>Percent Rural</th>\n",
       "    </tr>\n",
       "  </thead>\n",
       "  <tbody>\n",
       "    <tr>\n",
       "      <th>1090</th>\n",
       "      <td>63355</td>\n",
       "      <td>94.057296</td>\n",
       "      <td>1.314813</td>\n",
       "      <td>1.534212</td>\n",
       "      <td>1.067003</td>\n",
       "      <td>48.011996</td>\n",
       "      <td>36.140794</td>\n",
       "      <td>16.156578</td>\n",
       "      <td>52657</td>\n",
       "      <td>4.187743</td>\n",
       "      <td>7.879569</td>\n",
       "      <td>80.721503</td>\n",
       "      <td>46.142754</td>\n",
       "    </tr>\n",
       "    <tr>\n",
       "      <th>103</th>\n",
       "      <td>33461</td>\n",
       "      <td>91.802397</td>\n",
       "      <td>0.878635</td>\n",
       "      <td>5.905382</td>\n",
       "      <td>2.459580</td>\n",
       "      <td>50.521503</td>\n",
       "      <td>38.928902</td>\n",
       "      <td>15.600251</td>\n",
       "      <td>55485</td>\n",
       "      <td>6.384942</td>\n",
       "      <td>13.001171</td>\n",
       "      <td>83.457969</td>\n",
       "      <td>68.038712</td>\n",
       "    </tr>\n",
       "    <tr>\n",
       "      <th>745</th>\n",
       "      <td>7131</td>\n",
       "      <td>35.520965</td>\n",
       "      <td>2.131538</td>\n",
       "      <td>61.716449</td>\n",
       "      <td>20.782499</td>\n",
       "      <td>46.893844</td>\n",
       "      <td>45.982331</td>\n",
       "      <td>14.289721</td>\n",
       "      <td>40589</td>\n",
       "      <td>2.109447</td>\n",
       "      <td>32.383600</td>\n",
       "      <td>89.251795</td>\n",
       "      <td>28.750872</td>\n",
       "    </tr>\n",
       "    <tr>\n",
       "      <th>1048</th>\n",
       "      <td>58963</td>\n",
       "      <td>94.454149</td>\n",
       "      <td>0.746231</td>\n",
       "      <td>1.831657</td>\n",
       "      <td>3.578515</td>\n",
       "      <td>50.594441</td>\n",
       "      <td>34.287604</td>\n",
       "      <td>17.003884</td>\n",
       "      <td>58171</td>\n",
       "      <td>4.603880</td>\n",
       "      <td>6.360298</td>\n",
       "      <td>59.539254</td>\n",
       "      <td>52.805120</td>\n",
       "    </tr>\n",
       "    <tr>\n",
       "      <th>1186</th>\n",
       "      <td>8572</td>\n",
       "      <td>91.565562</td>\n",
       "      <td>0.443304</td>\n",
       "      <td>2.134858</td>\n",
       "      <td>1.656556</td>\n",
       "      <td>46.966869</td>\n",
       "      <td>32.571162</td>\n",
       "      <td>20.496967</td>\n",
       "      <td>54594</td>\n",
       "      <td>4.512276</td>\n",
       "      <td>5.105750</td>\n",
       "      <td>74.537343</td>\n",
       "      <td>49.025557</td>\n",
       "    </tr>\n",
       "  </tbody>\n",
       "</table>\n",
       "</div>"
      ],
      "text/plain": [
       "      Total Population  Percent White, not Hispanic or Latino  \\\n",
       "1090             63355                              94.057296   \n",
       "103              33461                              91.802397   \n",
       "745               7131                              35.520965   \n",
       "1048             58963                              94.454149   \n",
       "1186              8572                              91.565562   \n",
       "\n",
       "      Percent Black, not Hispanic or Latino  Percent Hispanic or Latino  \\\n",
       "1090                               1.314813                    1.534212   \n",
       "103                                0.878635                    5.905382   \n",
       "745                                2.131538                   61.716449   \n",
       "1048                               0.746231                    1.831657   \n",
       "1186                               0.443304                    2.134858   \n",
       "\n",
       "      Percent Foreign Born  Percent Female  Percent Age 29 and Under  \\\n",
       "1090              1.067003       48.011996                 36.140794   \n",
       "103               2.459580       50.521503                 38.928902   \n",
       "745              20.782499       46.893844                 45.982331   \n",
       "1048              3.578515       50.594441                 34.287604   \n",
       "1186              1.656556       46.966869                 32.571162   \n",
       "\n",
       "      Percent Age 65 and Older  Median Household Income  Percent Unemployed  \\\n",
       "1090                 16.156578                    52657            4.187743   \n",
       "103                  15.600251                    55485            6.384942   \n",
       "745                  14.289721                    40589            2.109447   \n",
       "1048                 17.003884                    58171            4.603880   \n",
       "1186                 20.496967                    54594            4.512276   \n",
       "\n",
       "      Percent Less than High School Degree  \\\n",
       "1090                              7.879569   \n",
       "103                              13.001171   \n",
       "745                              32.383600   \n",
       "1048                              6.360298   \n",
       "1186                              5.105750   \n",
       "\n",
       "      Percent Less than Bachelor's Degree  Percent Rural  \n",
       "1090                            80.721503      46.142754  \n",
       "103                             83.457969      68.038712  \n",
       "745                             89.251795      28.750872  \n",
       "1048                            59.539254      52.805120  \n",
       "1186                            74.537343      49.025557  "
      ]
     },
     "execution_count": 69,
     "metadata": {},
     "output_type": "execute_result"
    }
   ],
   "source": [
    "# Visualize training set: predictor variables\n",
    "x_train.head()"
   ]
  },
  {
   "cell_type": "code",
   "execution_count": 70,
   "metadata": {},
   "outputs": [
    {
     "data": {
      "text/html": [
       "<div>\n",
       "<style scoped>\n",
       "    .dataframe tbody tr th:only-of-type {\n",
       "        vertical-align: middle;\n",
       "    }\n",
       "\n",
       "    .dataframe tbody tr th {\n",
       "        vertical-align: top;\n",
       "    }\n",
       "\n",
       "    .dataframe thead th {\n",
       "        text-align: right;\n",
       "    }\n",
       "</style>\n",
       "<table border=\"1\" class=\"dataframe\">\n",
       "  <thead>\n",
       "    <tr style=\"text-align: right;\">\n",
       "      <th></th>\n",
       "      <th>Democratic</th>\n",
       "      <th>Republican</th>\n",
       "      <th>Party</th>\n",
       "    </tr>\n",
       "  </thead>\n",
       "  <tbody>\n",
       "    <tr>\n",
       "      <th>1090</th>\n",
       "      <td>13798</td>\n",
       "      <td>13830</td>\n",
       "      <td>0</td>\n",
       "    </tr>\n",
       "    <tr>\n",
       "      <th>103</th>\n",
       "      <td>3278</td>\n",
       "      <td>6987</td>\n",
       "      <td>0</td>\n",
       "    </tr>\n",
       "    <tr>\n",
       "      <th>745</th>\n",
       "      <td>405</td>\n",
       "      <td>1202</td>\n",
       "      <td>0</td>\n",
       "    </tr>\n",
       "    <tr>\n",
       "      <th>1048</th>\n",
       "      <td>19395</td>\n",
       "      <td>6517</td>\n",
       "      <td>1</td>\n",
       "    </tr>\n",
       "    <tr>\n",
       "      <th>1186</th>\n",
       "      <td>722</td>\n",
       "      <td>3085</td>\n",
       "      <td>0</td>\n",
       "    </tr>\n",
       "  </tbody>\n",
       "</table>\n",
       "</div>"
      ],
      "text/plain": [
       "      Democratic  Republican  Party\n",
       "1090       13798       13830      0\n",
       "103         3278        6987      0\n",
       "745          405        1202      0\n",
       "1048       19395        6517      1\n",
       "1186         722        3085      0"
      ]
     },
     "execution_count": 70,
     "metadata": {},
     "output_type": "execute_result"
    }
   ],
   "source": [
    "# Visualize training set: labels\n",
    "y_train.head()"
   ]
  },
  {
   "cell_type": "code",
   "execution_count": null,
   "metadata": {},
   "outputs": [],
   "source": []
  },
  {
   "cell_type": "code",
   "execution_count": 71,
   "metadata": {},
   "outputs": [],
   "source": [
    "# Task 2"
   ]
  },
  {
   "cell_type": "code",
   "execution_count": 72,
   "metadata": {},
   "outputs": [],
   "source": [
    "# Standardize the training set and the validation set\n",
    "scaler = StandardScaler() \n",
    "scaler.fit(x_train)\n",
    "x_train_scaled = scaler.transform(x_train) \n",
    "x_val_scaled = scaler.transform(x_val)"
   ]
  },
  {
   "cell_type": "code",
   "execution_count": null,
   "metadata": {},
   "outputs": [],
   "source": []
  },
  {
   "cell_type": "code",
   "execution_count": 73,
   "metadata": {},
   "outputs": [],
   "source": [
    "# Task 3"
   ]
  },
  {
   "cell_type": "code",
   "execution_count": 74,
   "metadata": {},
   "outputs": [],
   "source": [
    "# Predicting the number of votes cast for the DEMOCRATIC party in each county"
   ]
  },
  {
   "cell_type": "code",
   "execution_count": 75,
   "metadata": {},
   "outputs": [],
   "source": [
    "# Building Model using all variables"
   ]
  },
  {
   "cell_type": "code",
   "execution_count": 76,
   "metadata": {},
   "outputs": [
    {
     "name": "stdout",
     "output_type": "stream",
     "text": [
      "[ 67699.4769908   -3218.35778818  -1056.15862014  -6992.46123859\n",
      "   3935.07911344     96.93882291  -4964.31964474  -1591.01933815\n",
      "   1442.29141648   1302.93524322   3966.55100572 -10069.94516214\n",
      "    -97.88148769]\n"
     ]
    }
   ],
   "source": [
    "model = linear_model.LinearRegression()\n",
    "fitted_model = model.fit(x_train_scaled, y_train['Democratic'])\n",
    "print(fitted_model.coef_)"
   ]
  },
  {
   "cell_type": "code",
   "execution_count": 77,
   "metadata": {},
   "outputs": [
    {
     "name": "stdout",
     "output_type": "stream",
     "text": [
      "0.9312193337733041\n"
     ]
    }
   ],
   "source": [
    "predicted = fitted_model.predict(x_val_scaled)\n",
    "\n",
    "corr_coef = numpy.corrcoef(predicted, y_val['Democratic'])[1, 0] \n",
    "R_squared = corr_coef**2\n",
    "print(R_squared)"
   ]
  },
  {
   "cell_type": "code",
   "execution_count": null,
   "metadata": {},
   "outputs": [],
   "source": []
  },
  {
   "cell_type": "code",
   "execution_count": 78,
   "metadata": {},
   "outputs": [],
   "source": [
    "# Building Model using the top 4 most significant variables (based on project01 report)"
   ]
  },
  {
   "cell_type": "code",
   "execution_count": 79,
   "metadata": {},
   "outputs": [
    {
     "name": "stdout",
     "output_type": "stream",
     "text": [
      "[69256.63509865   752.00100403  2017.87432223 -8892.08450096]\n"
     ]
    }
   ],
   "source": [
    "model = linear_model.LinearRegression()\n",
    "fitted_model = model.fit(x_train_scaled[:, [0, 1, 2, 11]], y_train['Democratic'])\n",
    "print(fitted_model.coef_)"
   ]
  },
  {
   "cell_type": "code",
   "execution_count": 80,
   "metadata": {},
   "outputs": [
    {
     "name": "stdout",
     "output_type": "stream",
     "text": [
      "0.9485091808967626\n"
     ]
    }
   ],
   "source": [
    "predicted = fitted_model.predict(x_val_scaled[:, [0, 1, 2, 11]])\n",
    "\n",
    "corr_coef = numpy.corrcoef(predicted, y_val['Democratic'])[1, 0] \n",
    "R_squared = corr_coef**2\n",
    "print(R_squared)"
   ]
  },
  {
   "cell_type": "code",
   "execution_count": null,
   "metadata": {},
   "outputs": [],
   "source": []
  },
  {
   "cell_type": "code",
   "execution_count": 81,
   "metadata": {},
   "outputs": [],
   "source": [
    "# Removing seemingly least relevant variable (BEST MODEL FOR PREDICTING DEMOCRATIC VOTES)"
   ]
  },
  {
   "cell_type": "code",
   "execution_count": 82,
   "metadata": {},
   "outputs": [
    {
     "name": "stdout",
     "output_type": "stream",
     "text": [
      "[69073.08206907  1700.49107316 -8948.82185095]\n"
     ]
    }
   ],
   "source": [
    "model = linear_model.LinearRegression()\n",
    "fitted_model = model.fit(x_train_scaled[:, [0, 2, 11]], y_train['Democratic'])\n",
    "print(fitted_model.coef_)"
   ]
  },
  {
   "cell_type": "code",
   "execution_count": 83,
   "metadata": {},
   "outputs": [
    {
     "name": "stdout",
     "output_type": "stream",
     "text": [
      "0.9491339429371857\n"
     ]
    }
   ],
   "source": [
    "predicted = fitted_model.predict(x_val_scaled[:, [0, 2, 11]])\n",
    "\n",
    "corr_coef = numpy.corrcoef(predicted, y_val['Democratic'])[1, 0] \n",
    "R_squared = corr_coef**2\n",
    "print(R_squared)"
   ]
  },
  {
   "cell_type": "code",
   "execution_count": null,
   "metadata": {},
   "outputs": [],
   "source": []
  },
  {
   "cell_type": "code",
   "execution_count": 84,
   "metadata": {},
   "outputs": [],
   "source": [
    "# Adding multiple other variables to see if R squared can be increased"
   ]
  },
  {
   "cell_type": "code",
   "execution_count": 85,
   "metadata": {},
   "outputs": [
    {
     "name": "stdout",
     "output_type": "stream",
     "text": [
      "[ 69323.93712355   1401.31874583   -418.56897963   1840.06113202\n",
      " -10276.39011065   1654.62454387]\n"
     ]
    }
   ],
   "source": [
    "model = linear_model.LinearRegression()\n",
    "fitted_model = model.fit(x_train_scaled[:, [0, 2, 5, 9, 11, 12]], y_train['Democratic'])\n",
    "print(fitted_model.coef_)"
   ]
  },
  {
   "cell_type": "code",
   "execution_count": 86,
   "metadata": {},
   "outputs": [
    {
     "name": "stdout",
     "output_type": "stream",
     "text": [
      "0.9494594555838357\n"
     ]
    }
   ],
   "source": [
    "predicted = fitted_model.predict(x_val_scaled[:, [0, 2, 5, 9, 11, 12]])\n",
    "\n",
    "corr_coef = numpy.corrcoef(predicted, y_val['Democratic'])[1, 0] \n",
    "R_squared = corr_coef**2\n",
    "print(R_squared)"
   ]
  },
  {
   "cell_type": "code",
   "execution_count": null,
   "metadata": {},
   "outputs": [],
   "source": []
  },
  {
   "cell_type": "code",
   "execution_count": 87,
   "metadata": {},
   "outputs": [],
   "source": [
    "# Predicting the number of votes cast for the REPUBLICAN party in each county"
   ]
  },
  {
   "cell_type": "code",
   "execution_count": 88,
   "metadata": {},
   "outputs": [],
   "source": [
    "# Building Model using all variables"
   ]
  },
  {
   "cell_type": "code",
   "execution_count": 89,
   "metadata": {},
   "outputs": [
    {
     "name": "stdout",
     "output_type": "stream",
     "text": [
      "[44403.15240906  1780.93181212 -2916.59301756  1217.16109357\n",
      " -6262.9194413  -1079.28398492  -772.9612049   2630.69368215\n",
      "  5930.71380695  2062.35379292  3451.83253914 -2960.02130754\n",
      " -5698.28690602]\n"
     ]
    }
   ],
   "source": [
    "model = linear_model.LinearRegression()\n",
    "fitted_model = model.fit(x_train_scaled, y_train['Republican'])\n",
    "print(fitted_model.coef_)"
   ]
  },
  {
   "cell_type": "code",
   "execution_count": 90,
   "metadata": {},
   "outputs": [
    {
     "name": "stdout",
     "output_type": "stream",
     "text": [
      "0.6948219003493743\n"
     ]
    }
   ],
   "source": [
    "predicted = fitted_model.predict(x_val_scaled)\n",
    "\n",
    "corr_coef = numpy.corrcoef(predicted, y_val['Republican'])[1, 0] \n",
    "R_squared = corr_coef**2\n",
    "print(R_squared)"
   ]
  },
  {
   "cell_type": "code",
   "execution_count": null,
   "metadata": {},
   "outputs": [],
   "source": []
  },
  {
   "cell_type": "code",
   "execution_count": 91,
   "metadata": {},
   "outputs": [],
   "source": [
    "# Building Model using the top 4 most significant variables (based on project01 report)"
   ]
  },
  {
   "cell_type": "code",
   "execution_count": 92,
   "metadata": {},
   "outputs": [
    {
     "name": "stdout",
     "output_type": "stream",
     "text": [
      "[43826.27499765  2203.84789557 -1872.92686709 -4208.30811836]\n"
     ]
    }
   ],
   "source": [
    "model = linear_model.LinearRegression()\n",
    "fitted_model = model.fit(x_train_scaled[:, [0, 1, 2, 11]], y_train['Republican'])\n",
    "print(fitted_model.coef_)"
   ]
  },
  {
   "cell_type": "code",
   "execution_count": 93,
   "metadata": {},
   "outputs": [
    {
     "name": "stdout",
     "output_type": "stream",
     "text": [
      "0.6474596835891532\n"
     ]
    }
   ],
   "source": [
    "predicted = fitted_model.predict(x_val_scaled[:, [0, 1, 2, 11]])\n",
    "\n",
    "corr_coef = numpy.corrcoef(predicted, y_val['Republican'])[1, 0] \n",
    "R_squared = corr_coef**2\n",
    "print(R_squared)"
   ]
  },
  {
   "cell_type": "code",
   "execution_count": null,
   "metadata": {},
   "outputs": [],
   "source": []
  },
  {
   "cell_type": "code",
   "execution_count": 94,
   "metadata": {},
   "outputs": [],
   "source": [
    "# Removing seemingly least relevant variable"
   ]
  },
  {
   "cell_type": "code",
   "execution_count": 95,
   "metadata": {},
   "outputs": [
    {
     "name": "stdout",
     "output_type": "stream",
     "text": [
      "[43640.78531753  3033.48577167 -4146.42294453]\n"
     ]
    }
   ],
   "source": [
    "model = linear_model.LinearRegression()\n",
    "fitted_model = model.fit(x_train_scaled[:, [0, 1, 11]], y_train['Republican'])\n",
    "print(fitted_model.coef_)"
   ]
  },
  {
   "cell_type": "code",
   "execution_count": 96,
   "metadata": {},
   "outputs": [
    {
     "name": "stdout",
     "output_type": "stream",
     "text": [
      "0.6499687277390196\n"
     ]
    }
   ],
   "source": [
    "predicted = fitted_model.predict(x_val_scaled[:, [0, 1, 11]])\n",
    "\n",
    "corr_coef = numpy.corrcoef(predicted, y_val['Republican'])[1, 0] \n",
    "R_squared = corr_coef**2\n",
    "print(R_squared)"
   ]
  },
  {
   "cell_type": "code",
   "execution_count": null,
   "metadata": {},
   "outputs": [],
   "source": []
  },
  {
   "cell_type": "code",
   "execution_count": 97,
   "metadata": {},
   "outputs": [],
   "source": [
    "# Adding more variables that seem relevant to republican counties to see if R squared can be increased"
   ]
  },
  {
   "cell_type": "code",
   "execution_count": 98,
   "metadata": {},
   "outputs": [
    {
     "name": "stdout",
     "output_type": "stream",
     "text": [
      "[42791.44622898  3446.69948382  2495.11631892  4028.26822585\n",
      " -4816.50015819]\n"
     ]
    }
   ],
   "source": [
    "model = linear_model.LinearRegression()\n",
    "fitted_model = model.fit(x_train_scaled[:, [0, 1, 7, 8, 12]], y_train['Republican'])\n",
    "print(fitted_model.coef_)"
   ]
  },
  {
   "cell_type": "code",
   "execution_count": 99,
   "metadata": {},
   "outputs": [
    {
     "name": "stdout",
     "output_type": "stream",
     "text": [
      "0.6737301771404879\n"
     ]
    }
   ],
   "source": [
    "predicted = fitted_model.predict(x_val_scaled[:, [0, 1, 7, 8, 12]])\n",
    "\n",
    "corr_coef = numpy.corrcoef(predicted, y_val['Republican'])[1, 0] \n",
    "R_squared = corr_coef**2\n",
    "print(R_squared)"
   ]
  },
  {
   "cell_type": "code",
   "execution_count": null,
   "metadata": {},
   "outputs": [],
   "source": []
  },
  {
   "cell_type": "code",
   "execution_count": 100,
   "metadata": {},
   "outputs": [],
   "source": [
    "# Removing some variables to reduce overfitting"
   ]
  },
  {
   "cell_type": "code",
   "execution_count": 101,
   "metadata": {},
   "outputs": [
    {
     "name": "stdout",
     "output_type": "stream",
     "text": [
      "[43470.26429267  4715.26381654 -5038.14337356]\n"
     ]
    }
   ],
   "source": [
    "model = linear_model.LinearRegression()\n",
    "fitted_model = model.fit(x_train_scaled[:, [0, 1, 12]], y_train['Republican'])\n",
    "print(fitted_model.coef_)"
   ]
  },
  {
   "cell_type": "code",
   "execution_count": 102,
   "metadata": {},
   "outputs": [
    {
     "name": "stdout",
     "output_type": "stream",
     "text": [
      "0.6692570988078136\n"
     ]
    }
   ],
   "source": [
    "predicted = fitted_model.predict(x_val_scaled[:, [0, 1, 12]])\n",
    "\n",
    "corr_coef = numpy.corrcoef(predicted, y_val['Republican'])[1, 0] \n",
    "R_squared = corr_coef**2\n",
    "print(R_squared)"
   ]
  },
  {
   "cell_type": "code",
   "execution_count": null,
   "metadata": {},
   "outputs": [],
   "source": []
  },
  {
   "cell_type": "code",
   "execution_count": null,
   "metadata": {},
   "outputs": [],
   "source": [
    "#Task 4"
   ]
  },
  {
   "cell_type": "code",
   "execution_count": 103,
   "metadata": {},
   "outputs": [],
   "source": [
    "#Decision Trees using different criterions\n",
    "#Classify into two parties so only get the parties for each variable\n",
    "classifier_y_train = y_train['Party']\n",
    "classifier_y_test = y_val['Party']"
   ]
  },
  {
   "cell_type": "code",
   "execution_count": 104,
   "metadata": {},
   "outputs": [
    {
     "data": {
      "text/plain": [
       "DecisionTreeClassifier(ccp_alpha=0.0, class_weight=None, criterion='entropy',\n",
       "                       max_depth=None, max_features=None, max_leaf_nodes=None,\n",
       "                       min_impurity_decrease=0.0, min_impurity_split=None,\n",
       "                       min_samples_leaf=1, min_samples_split=2,\n",
       "                       min_weight_fraction_leaf=0.0, presort='deprecated',\n",
       "                       random_state=None, splitter='best')"
      ]
     },
     "execution_count": 104,
     "metadata": {},
     "output_type": "execute_result"
    }
   ],
   "source": [
    "#EntropyClassifier\n",
    "Eclassifier = DecisionTreeClassifier(criterion=\"entropy\")\n",
    "Eclassifier.fit(x_train_scaled,classifier_y_train)"
   ]
  },
  {
   "cell_type": "code",
   "execution_count": 105,
   "metadata": {},
   "outputs": [],
   "source": [
    "y_pred = Eclassifier.predict(x_val_scaled)"
   ]
  },
  {
   "cell_type": "code",
   "execution_count": 106,
   "metadata": {},
   "outputs": [
    {
     "data": {
      "image/png": "[encoded data removed]",
      "text/plain": [
       "<Figure size 432x288 with 2 Axes>"
      ]
     },
     "metadata": {
      "needs_background": "light"
     },
     "output_type": "display_data"
    }
   ],
   "source": [
    "conf_matrix = metrics.confusion_matrix(classifier_y_test,y_pred)\n",
    "sns.heatmap(conf_matrix,annot=True,fmt=\".3f\",square = True, cmap = plt.cm.Blues)\n",
    "plt.ylabel('Actual')\n",
    "plt.xlabel('Predicted')\n",
    "plt.title('Entropy Decision Tree Confusion Matrix')\n",
    "plt.tight_layout()"
   ]
  },
  {
   "cell_type": "code",
   "execution_count": 107,
   "metadata": {
    "scrolled": true
   },
   "outputs": [
    {
     "name": "stdout",
     "output_type": "stream",
     "text": [
      "[0.8158995815899581, 0.18410041841004188, array([0.86740331, 0.65517241]), array([0.88700565, 0.61290323]), array([0.87709497, 0.63333333])]\n"
     ]
    }
   ],
   "source": [
    "accuracy = metrics.accuracy_score(classifier_y_test,y_pred)\n",
    "error = 1 - accuracy\n",
    "precision = metrics.precision_score(classifier_y_test,y_pred,average = None)\n",
    "recall = metrics.recall_score(classifier_y_test,y_pred,average=None)\n",
    "F1_score = metrics.f1_score(classifier_y_test,y_pred,average = None)\n",
    "print([accuracy,error,precision,recall,F1_score])"
   ]
  },
  {
   "cell_type": "code",
   "execution_count": 108,
   "metadata": {},
   "outputs": [
    {
     "data": {
      "text/plain": [
       "DecisionTreeClassifier(ccp_alpha=0.0, class_weight=None, criterion='gini',\n",
       "                       max_depth=None, max_features=None, max_leaf_nodes=None,\n",
       "                       min_impurity_decrease=0.0, min_impurity_split=None,\n",
       "                       min_samples_leaf=1, min_samples_split=2,\n",
       "                       min_weight_fraction_leaf=0.0, presort='deprecated',\n",
       "                       random_state=None, splitter='best')"
      ]
     },
     "execution_count": 108,
     "metadata": {},
     "output_type": "execute_result"
    }
   ],
   "source": [
    "Gclassifier = DecisionTreeClassifier(criterion=\"gini\")\n",
    "Gclassifier.fit(x_train_scaled,classifier_y_train)"
   ]
  },
  {
   "cell_type": "code",
   "execution_count": 109,
   "metadata": {},
   "outputs": [],
   "source": [
    "y_pred = Gclassifier.predict(x_val_scaled)"
   ]
  },
  {
   "cell_type": "code",
   "execution_count": 110,
   "metadata": {},
   "outputs": [
    {
     "data": {
      "image/png": "[encoded data removed]",
      "text/plain": [
       "<Figure size 432x288 with 2 Axes>"
      ]
     },
     "metadata": {
      "needs_background": "light"
     },
     "output_type": "display_data"
    }
   ],
   "source": [
    "conf_matrix = metrics.confusion_matrix(classifier_y_test,y_pred)\n",
    "sns.heatmap(conf_matrix,annot=True,fmt=\".3f\",square = True, cmap = plt.cm.Blues)\n",
    "plt.ylabel('Actual')\n",
    "plt.xlabel('Predicted')\n",
    "plt.title('Gini Decision Tree Confusion Matrix')\n",
    "plt.tight_layout()"
   ]
  },
  {
   "cell_type": "code",
   "execution_count": 111,
   "metadata": {},
   "outputs": [
    {
     "name": "stdout",
     "output_type": "stream",
     "text": [
      "[0.7238493723849372, 0.2761506276150628, array([0.80662983, 0.46551724]), array([0.82485876, 0.43548387]), array([0.81564246, 0.45      ])]\n"
     ]
    }
   ],
   "source": [
    "accuracy = metrics.accuracy_score(classifier_y_test,y_pred)\n",
    "error = 1 - accuracy\n",
    "precision = metrics.precision_score(classifier_y_test,y_pred,average = None)\n",
    "recall = metrics.recall_score(classifier_y_test,y_pred,average=None)\n",
    "F1_score = metrics.f1_score(classifier_y_test,y_pred,average = None)\n",
    "print([accuracy,error,precision,recall,F1_score])"
   ]
  },
  {
   "cell_type": "code",
   "execution_count": 112,
   "metadata": {},
   "outputs": [],
   "source": [
    "#Entropy is clearly better a model here "
   ]
  },
  {
   "cell_type": "code",
   "execution_count": 113,
   "metadata": {},
   "outputs": [
    {
     "name": "stdout",
     "output_type": "stream",
     "text": [
      "15\n"
     ]
    }
   ],
   "source": [
    "#K-nearest Neighbors\n",
    "#Chose the best number of neighbors based of accuracy\n",
    "neighbors = [2,3,5,10,15,25,50]\n",
    "prevAccuracy = 0.0\n",
    "myN = 0\n",
    "for n in neighbors:\n",
    "    classifier = KNeighborsClassifier(n_neighbors = n)\n",
    "    classifier.fit(x_train_scaled,classifier_y_train)\n",
    "    y_pred = classifier.predict(x_val_scaled)\n",
    "    accuracy = metrics.accuracy_score(classifier_y_test,y_pred)\n",
    "    if(accuracy > prevAccuracy):\n",
    "        prevAccuracy = accuracy\n",
    "        myN = n\n",
    "\n",
    "print(myN)    "
   ]
  },
  {
   "cell_type": "code",
   "execution_count": 114,
   "metadata": {},
   "outputs": [],
   "source": [
    "#Best model is with 15 neighbors\n",
    "#Compute statistics\n",
    "classifier = KNeighborsClassifier(n_neighbors = 15)\n",
    "classifier.fit(x_train_scaled,classifier_y_train)\n",
    "y_pred = classifier.predict(x_val_scaled)"
   ]
  },
  {
   "cell_type": "code",
   "execution_count": 115,
   "metadata": {},
   "outputs": [
    {
     "data": {
      "image/png": "[encoded data removed]",
      "text/plain": [
       "<Figure size 432x288 with 2 Axes>"
      ]
     },
     "metadata": {
      "needs_background": "light"
     },
     "output_type": "display_data"
    }
   ],
   "source": [
    "conf_matrix = metrics.confusion_matrix(classifier_y_test,y_pred)\n",
    "sns.heatmap(conf_matrix,annot=True,fmt=\".3f\",square = True, cmap = plt.cm.Blues)\n",
    "plt.ylabel('Actual')\n",
    "plt.xlabel('Predicted')\n",
    "plt.title('K=15 nearest neigbhors Confusion Matrix')\n",
    "plt.tight_layout()"
   ]
  },
  {
   "cell_type": "code",
   "execution_count": 116,
   "metadata": {},
   "outputs": [
    {
     "name": "stdout",
     "output_type": "stream",
     "text": [
      "[0.8242677824267782, 0.17573221757322177, array([0.82926829, 0.79411765]), array([0.96045198, 0.43548387]), array([0.89005236, 0.5625    ])]\n"
     ]
    }
   ],
   "source": [
    "accuracy = metrics.accuracy_score(classifier_y_test,y_pred)\n",
    "error = 1 - accuracy\n",
    "precision = metrics.precision_score(classifier_y_test,y_pred,average = None)\n",
    "recall = metrics.recall_score(classifier_y_test,y_pred,average=None)\n",
    "F1_score = metrics.f1_score(classifier_y_test,y_pred,average = None)\n",
    "print([accuracy,error,precision,recall,F1_score])"
   ]
  },
  {
   "cell_type": "code",
   "execution_count": 117,
   "metadata": {},
   "outputs": [
    {
     "data": {
      "image/png": "[encoded data removed]",
      "text/plain": [
       "<Figure size 432x288 with 2 Axes>"
      ]
     },
     "metadata": {
      "needs_background": "light"
     },
     "output_type": "display_data"
    }
   ],
   "source": [
    "#SVMs\n",
    "#First try to find the best kernel \n",
    "classifier = SVC(kernel = 'linear')\n",
    "classifier.fit(x_train_scaled,classifier_y_train)\n",
    "y_pred = classifier.predict(x_val_scaled)\n",
    "\n",
    "conf_matrix = metrics.confusion_matrix(classifier_y_test,y_pred)\n",
    "sns.heatmap(conf_matrix,annot=True,fmt=\".3f\",square = True, cmap = plt.cm.Blues)\n",
    "plt.ylabel('Actual')\n",
    "plt.xlabel('Predicted')\n",
    "plt.title('SVM linear kernel Confusion Matrix')\n",
    "plt.tight_layout()"
   ]
  },
  {
   "cell_type": "code",
   "execution_count": 118,
   "metadata": {},
   "outputs": [
    {
     "name": "stdout",
     "output_type": "stream",
     "text": [
      "[0.8242677824267782, 0.17573221757322177, array([0.83251232, 0.77777778]), array([0.95480226, 0.4516129 ]), array([0.88947368, 0.57142857])]\n"
     ]
    }
   ],
   "source": [
    "accuracy = metrics.accuracy_score(classifier_y_test,y_pred)\n",
    "error = 1 - accuracy\n",
    "precision = metrics.precision_score(classifier_y_test,y_pred,average = None)\n",
    "recall = metrics.recall_score(classifier_y_test,y_pred,average=None)\n",
    "F1_score = metrics.f1_score(classifier_y_test,y_pred,average = None)\n",
    "print([accuracy,error,precision,recall,F1_score])"
   ]
  },
  {
   "cell_type": "code",
   "execution_count": 121,
   "metadata": {},
   "outputs": [
    {
     "data": {
      "image/png": "[encoded data removed]",
      "text/plain": [
       "<Figure size 432x288 with 2 Axes>"
      ]
     },
     "metadata": {
      "needs_background": "light"
     },
     "output_type": "display_data"
    }
   ],
   "source": [
    "#SVMs\n",
    "#First try to find the best kernel \n",
    "classifier = SVC(kernel = 'poly')\n",
    "classifier.fit(x_train_scaled,classifier_y_train)\n",
    "y_pred = classifier.predict(x_val_scaled)\n",
    "\n",
    "conf_matrix = metrics.confusion_matrix(classifier_y_test,y_pred)\n",
    "sns.heatmap(conf_matrix,annot=True,fmt=\".3f\",square = True, cmap = plt.cm.Blues)\n",
    "plt.ylabel('Actual')\n",
    "plt.xlabel('Predicted')\n",
    "plt.title('SVM poly kernel Confusion Matrix')\n",
    "plt.tight_layout()"
   ]
  },
  {
   "cell_type": "code",
   "execution_count": 122,
   "metadata": {},
   "outputs": [
    {
     "name": "stdout",
     "output_type": "stream",
     "text": [
      "[0.8242677824267782, 0.17573221757322177, array([0.81395349, 0.91666667]), array([0.98870056, 0.35483871]), array([0.89285714, 0.51162791])]\n"
     ]
    }
   ],
   "source": [
    "accuracy = metrics.accuracy_score(classifier_y_test,y_pred)\n",
    "error = 1 - accuracy\n",
    "precision = metrics.precision_score(classifier_y_test,y_pred,average = None)\n",
    "recall = metrics.recall_score(classifier_y_test,y_pred,average=None)\n",
    "F1_score = metrics.f1_score(classifier_y_test,y_pred,average = None)\n",
    "print([accuracy,error,precision,recall,F1_score])"
   ]
  },
  {
   "cell_type": "code",
   "execution_count": 124,
   "metadata": {},
   "outputs": [
    {
     "data": {
      "image/png": "[encoded data removed]",
      "text/plain": [
       "<Figure size 432x288 with 2 Axes>"
      ]
     },
     "metadata": {
      "needs_background": "light"
     },
     "output_type": "display_data"
    }
   ],
   "source": [
    "#SVMs\n",
    "#First try to find the best kernel \n",
    "classifier = SVC(kernel = 'rbf')\n",
    "classifier.fit(x_train_scaled,classifier_y_train)\n",
    "y_pred = classifier.predict(x_val_scaled)\n",
    "\n",
    "conf_matrix = metrics.confusion_matrix(classifier_y_test,y_pred)\n",
    "sns.heatmap(conf_matrix,annot=True,fmt=\".3f\",square = True, cmap = plt.cm.Blues)\n",
    "plt.ylabel('Actual')\n",
    "plt.xlabel('Predicted')\n",
    "plt.title('SVM rbf kernel Confusion Matrix')\n",
    "plt.tight_layout()"
   ]
  },
  {
   "cell_type": "code",
   "execution_count": 125,
   "metadata": {},
   "outputs": [
    {
     "name": "stdout",
     "output_type": "stream",
     "text": [
      "[0.8702928870292888, 0.12970711297071125, array([0.865    , 0.8974359]), array([0.97740113, 0.56451613]), array([0.91777188, 0.69306931])]\n"
     ]
    }
   ],
   "source": [
    "accuracy = metrics.accuracy_score(classifier_y_test,y_pred)\n",
    "error = 1 - accuracy\n",
    "precision = metrics.precision_score(classifier_y_test,y_pred,average = None)\n",
    "recall = metrics.recall_score(classifier_y_test,y_pred,average=None)\n",
    "F1_score = metrics.f1_score(classifier_y_test,y_pred,average = None)\n",
    "print([accuracy,error,precision,recall,F1_score])"
   ]
  },
  {
   "cell_type": "code",
   "execution_count": 126,
   "metadata": {},
   "outputs": [
    {
     "data": {
      "image/png": "[encoded data removed]",
      "text/plain": [
       "<Figure size 432x288 with 2 Axes>"
      ]
     },
     "metadata": {
      "needs_background": "light"
     },
     "output_type": "display_data"
    }
   ],
   "source": [
    "#SVMs\n",
    "#First try to find the best kernel \n",
    "classifier = SVC(kernel = 'sigmoid')\n",
    "classifier.fit(x_train_scaled,classifier_y_train)\n",
    "y_pred = classifier.predict(x_val_scaled)\n",
    "\n",
    "conf_matrix = metrics.confusion_matrix(classifier_y_test,y_pred)\n",
    "sns.heatmap(conf_matrix,annot=True,fmt=\".3f\",square = True, cmap = plt.cm.Blues)\n",
    "plt.ylabel('Actual')\n",
    "plt.xlabel('Predicted')\n",
    "plt.title('SVM sigmoid kernel Confusion Matrix')\n",
    "plt.tight_layout()"
   ]
  },
  {
   "cell_type": "code",
   "execution_count": 127,
   "metadata": {},
   "outputs": [
    {
     "name": "stdout",
     "output_type": "stream",
     "text": [
      "[0.7154811715481172, 0.2845188284518828, array([0.80110497, 0.44827586]), array([0.81920904, 0.41935484]), array([0.81005587, 0.43333333])]\n"
     ]
    }
   ],
   "source": [
    "accuracy = metrics.accuracy_score(classifier_y_test,y_pred)\n",
    "error = 1 - accuracy\n",
    "precision = metrics.precision_score(classifier_y_test,y_pred,average = None)\n",
    "recall = metrics.recall_score(classifier_y_test,y_pred,average=None)\n",
    "F1_score = metrics.f1_score(classifier_y_test,y_pred,average = None)\n",
    "print([accuracy,error,precision,recall,F1_score])"
   ]
  },
  {
   "cell_type": "code",
   "execution_count": 128,
   "metadata": {},
   "outputs": [],
   "source": [
    "# Rbf is the best kernel"
   ]
  },
  {
   "cell_type": "code",
   "execution_count": 140,
   "metadata": {},
   "outputs": [
    {
     "name": "stdout",
     "output_type": "stream",
     "text": [
      "1.0\n"
     ]
    }
   ],
   "source": [
    "# Now try to find the best c value\n",
    "# based on accuracy \n",
    "values = [0.001,0.01,0.1,0.5,1.0,5.0,10]\n",
    "prevAcc = 0.0\n",
    "cVal = -1\n",
    "for v in values:\n",
    "    classifier = SVC(kernel = 'rbf', C = v)\n",
    "    classifier.fit(x_train_scaled,classifier_y_train)\n",
    "    y_pred = classifier.predict(x_val_scaled)\n",
    "    accuracy = metrics.accuracy_score(classifier_y_test,y_pred)\n",
    "    if(accuracy > prevAcc):\n",
    "        prevAcc = accuracy\n",
    "        cVal = v\n",
    "print(cVal)"
   ]
  },
  {
   "cell_type": "code",
   "execution_count": 141,
   "metadata": {},
   "outputs": [
    {
     "data": {
      "image/png": "[encoded data removed]",
      "text/plain": [
       "<Figure size 432x288 with 2 Axes>"
      ]
     },
     "metadata": {
      "needs_background": "light"
     },
     "output_type": "display_data"
    }
   ],
   "source": [
    "#best c val is 1.0 \n",
    "# get metrics\n",
    "classifier = SVC(kernel = 'rbf',C=1.0)\n",
    "classifier.fit(x_train_scaled,classifier_y_train)\n",
    "y_pred = classifier.predict(x_val_scaled)\n",
    "\n",
    "conf_matrix = metrics.confusion_matrix(classifier_y_test,y_pred)\n",
    "sns.heatmap(conf_matrix,annot=True,fmt=\".3f\",square = True, cmap = plt.cm.Blues)\n",
    "plt.ylabel('Actual')\n",
    "plt.xlabel('Predicted')\n",
    "plt.title('SVM sigmoid kernel Confusion Matrix')\n",
    "plt.tight_layout()"
   ]
  },
  {
   "cell_type": "code",
   "execution_count": 142,
   "metadata": {},
   "outputs": [
    {
     "name": "stdout",
     "output_type": "stream",
     "text": [
      "[0.8702928870292888, 0.12970711297071125, array([0.865    , 0.8974359]), array([0.97740113, 0.56451613]), array([0.91777188, 0.69306931])]\n"
     ]
    }
   ],
   "source": [
    "accuracy = metrics.accuracy_score(classifier_y_test,y_pred)\n",
    "error = 1 - accuracy\n",
    "precision = metrics.precision_score(classifier_y_test,y_pred,average = None)\n",
    "recall = metrics.recall_score(classifier_y_test,y_pred,average=None)\n",
    "F1_score = metrics.f1_score(classifier_y_test,y_pred,average = None)\n",
    "print([accuracy,error,precision,recall,F1_score])"
   ]
  },
  {
   "cell_type": "code",
   "execution_count": null,
   "metadata": {},
   "outputs": [],
   "source": []
  },
  {
   "cell_type": "code",
   "execution_count": null,
   "metadata": {},
   "outputs": [],
   "source": [
    "#Task 6"
   ]
  },
  {
   "cell_type": "code",
   "execution_count": 1,
   "metadata": {},
   "outputs": [
    {
     "ename": "NameError",
     "evalue": "name 'merged_data' is not defined",
     "output_type": "error",
     "traceback": [
      "\u001b[1;31m---------------------------------------------------------------------------\u001b[0m",
      "\u001b[1;31mNameError\u001b[0m                                 Traceback (most recent call last)",
      "\u001b[1;32m<ipython-input-1-65e6d0d479d9>\u001b[0m in \u001b[0;36m<module>\u001b[1;34m\u001b[0m\n\u001b[1;32m----> 1\u001b[1;33m \u001b[0mfips\u001b[0m \u001b[1;33m=\u001b[0m \u001b[0mmerged_data\u001b[0m\u001b[1;33m[\u001b[0m\u001b[1;34m'FIPS'\u001b[0m\u001b[1;33m]\u001b[0m\u001b[1;33m.\u001b[0m\u001b[0mtolist\u001b[0m\u001b[1;33m(\u001b[0m\u001b[1;33m)\u001b[0m\u001b[1;33m\u001b[0m\u001b[1;33m\u001b[0m\u001b[0m\n\u001b[0m\u001b[0;32m      2\u001b[0m \u001b[0mvalues\u001b[0m \u001b[1;33m=\u001b[0m \u001b[0mmerged_data\u001b[0m\u001b[1;33m[\u001b[0m\u001b[1;34m'Party'\u001b[0m\u001b[1;33m]\u001b[0m\u001b[1;33m.\u001b[0m\u001b[0mtolist\u001b[0m\u001b[1;33m(\u001b[0m\u001b[1;33m)\u001b[0m\u001b[1;33m\u001b[0m\u001b[1;33m\u001b[0m\u001b[0m\n\u001b[0;32m      3\u001b[0m \u001b[1;33m\u001b[0m\u001b[0m\n\u001b[0;32m      4\u001b[0m \u001b[0mfig\u001b[0m \u001b[1;33m=\u001b[0m \u001b[0mff\u001b[0m\u001b[1;33m.\u001b[0m\u001b[0mcreate_choropleth\u001b[0m\u001b[1;33m(\u001b[0m\u001b[0mfips\u001b[0m\u001b[1;33m=\u001b[0m\u001b[0mfips\u001b[0m\u001b[1;33m,\u001b[0m \u001b[0mvalues\u001b[0m\u001b[1;33m=\u001b[0m\u001b[0mvalues\u001b[0m\u001b[1;33m,\u001b[0m \u001b[0mcolorscale\u001b[0m\u001b[1;33m=\u001b[0m\u001b[1;33m[\u001b[0m\u001b[1;34m'rgb(255, 0, 0)'\u001b[0m\u001b[1;33m,\u001b[0m \u001b[1;34m'rgb(0, 0, 255)'\u001b[0m\u001b[1;33m]\u001b[0m\u001b[1;33m,\u001b[0m \u001b[0mtitle\u001b[0m\u001b[1;33m=\u001b[0m\u001b[1;34m'US Counties Political Map'\u001b[0m\u001b[1;33m,\u001b[0m \u001b[0mlegend_title\u001b[0m\u001b[1;33m=\u001b[0m\u001b[1;34m'1 = Democratic, 0 = Republican'\u001b[0m\u001b[1;33m)\u001b[0m\u001b[1;33m\u001b[0m\u001b[1;33m\u001b[0m\u001b[0m\n\u001b[0;32m      5\u001b[0m \u001b[0mfig\u001b[0m\u001b[1;33m.\u001b[0m\u001b[0mlayout\u001b[0m\u001b[1;33m.\u001b[0m\u001b[0mtemplate\u001b[0m \u001b[1;33m=\u001b[0m \u001b[1;32mNone\u001b[0m\u001b[1;33m\u001b[0m\u001b[1;33m\u001b[0m\u001b[0m\n",
      "\u001b[1;31mNameError\u001b[0m: name 'merged_data' is not defined"
     ]
    }
   ],
   "source": [
    "fips = merged_data['FIPS'].tolist()\n",
    "values = merged_data['Party'].tolist()\n",
    "\n",
    "fig = ff.create_choropleth(fips=fips, values=values, colorscale=['rgb(255, 0, 0)', 'rgb(0, 0, 255)'], title='US Counties Political Map', legend_title='1 = Democratic, 0 = Republican')\n",
    "fig.layout.template = None\n",
    "fig.show()"
   ]
  },
  {
   "cell_type": "code",
   "execution_count": null,
   "metadata": {},
   "outputs": [],
   "source": []
  }
 ],
 "metadata": {
  "kernelspec": {
   "display_name": "Python 3",
   "language": "python",
   "name": "python3"
  },
  "language_info": {
   "codemirror_mode": {
    "name": "ipython",
    "version": 3
   },
   "file_extension": ".py",
   "mimetype": "text/x-python",
   "name": "python",
   "nbconvert_exporter": "python",
   "pygments_lexer": "ipython3",
   "version": "3.7.6"
  }
 },
 "nbformat": 4,
 "nbformat_minor": 4
}
